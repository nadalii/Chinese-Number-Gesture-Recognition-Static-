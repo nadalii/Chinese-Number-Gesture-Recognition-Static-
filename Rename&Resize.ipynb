{
 "cells": [
  {
   "cell_type": "code",
   "execution_count": 1,
   "metadata": {},
   "outputs": [],
   "source": [
    "import os\n",
    "import cv2"
   ]
  },
  {
   "cell_type": "code",
   "execution_count": 2,
   "metadata": {},
   "outputs": [],
   "source": [
    "data_path = \"./Dataset\"\n",
    "ori_data_path = \"./Original_Dataset\"\n",
    "if os.path.exists(ori_data_path) == False:\n",
    "    os.mkdir(ori_data_path)\n",
    "train_list = os.path.join(ori_data_path, \"train_list.txt\")\n",
    "file = open(train_list, 'w')\n",
    "index = 0\n",
    "for i in range(11):\n",
    "    current_path = os.path.join(data_path, str(i))\n",
    "    filelist = os.listdir(current_path)\n",
    "    dstpath = os.path.join(ori_data_path, str(i))\n",
    "    if os.path.exists(dstpath) == False:\n",
    "        os.mkdir(dstpath)\n",
    "    for item in filelist:\n",
    "        if item.endswith(\".jpg\") | item.endswith(\".jpeg\"):\n",
    "            img = cv2.imread(os.path.join(current_path, item))\n",
    "            img_copy = img.copy()\n",
    "            img_copy = cv2.resize(img_copy, (384, 512), interpolation=cv2.INTER_CUBIC)\n",
    "            cv2.imwrite(os.path.join(dstpath, str(index).zfill(4)+\".jpg\"), img_copy)\n",
    "            file.write(str(index).zfill(4)+\" \"+str(i)+\"\\n\")\n",
    "            index += 1\n",
    "file.close()"
   ]
  },
  {
   "cell_type": "code",
   "execution_count": null,
   "metadata": {},
   "outputs": [],
   "source": []
  },
  {
   "cell_type": "code",
   "execution_count": null,
   "metadata": {},
   "outputs": [],
   "source": []
  },
  {
   "cell_type": "code",
   "execution_count": null,
   "metadata": {},
   "outputs": [],
   "source": []
  }
 ],
 "metadata": {
  "kernelspec": {
   "display_name": "Python 3",
   "language": "python",
   "name": "python3"
  },
  "language_info": {
   "codemirror_mode": {
    "name": "ipython",
    "version": 3
   },
   "file_extension": ".py",
   "mimetype": "text/x-python",
   "name": "python",
   "nbconvert_exporter": "python",
   "pygments_lexer": "ipython3",
   "version": "3.6.1"
  }
 },
 "nbformat": 4,
 "nbformat_minor": 2
}
